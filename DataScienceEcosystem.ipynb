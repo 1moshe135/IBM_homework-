{
 "cells": [
  {
   "cell_type": "markdown",
   "id": "31f6e2ee",
   "metadata": {},
   "source": [
    "# Data Science Tools and Ecosystem"
   ]
  },
  {
   "cell_type": "markdown",
   "id": "cbbf3be4",
   "metadata": {},
   "source": [
    "### In this notebook, Data Science Tools and Ecosystem are summarized."
   ]
  },
  {
   "cell_type": "markdown",
   "id": "97416304",
   "metadata": {},
   "source": [
    "Some of the popular languages that Data Scientists use are:\n",
    "\n",
    "    1. python\n",
    "    2. R\n",
    "    3. c++"
   ]
  },
  {
   "cell_type": "markdown",
   "id": "86466aa0",
   "metadata": {},
   "source": [
    "Some of the commonly used libraries used by Data Scientists include:\n",
    "\n",
    "    1. Pandas\n",
    "    2. Plotly\n",
    "    3. Lattice"
   ]
  },
  {
   "cell_type": "markdown",
   "id": "71bde509",
   "metadata": {},
   "source": [
    "|Data Science Tools|\n",
    "|-|\n",
    "|Jupyter|\n",
    "|RStudio|\n",
    "|VScode|"
   ]
  },
  {
   "cell_type": "markdown",
   "id": "ae110b40",
   "metadata": {},
   "source": [
    "### Below are a few examples of evaluating arithmetic expressions in Python"
   ]
  },
  {
   "cell_type": "code",
   "execution_count": 2,
   "id": "09e43939",
   "metadata": {},
   "outputs": [
    {
     "data": {
      "text/plain": [
       "17"
      ]
     },
     "execution_count": 2,
     "metadata": {},
     "output_type": "execute_result"
    }
   ],
   "source": [
    "# This a simple arithmetic expression to mutiply then add integers\n",
    "(3*4)+5"
   ]
  },
  {
   "cell_type": "code",
   "execution_count": 3,
   "id": "045ad3fa",
   "metadata": {},
   "outputs": [
    {
     "data": {
      "text/plain": [
       "3.3333333333333335"
      ]
     },
     "execution_count": 3,
     "metadata": {},
     "output_type": "execute_result"
    }
   ],
   "source": [
    "# This will convert 200 minutes to hours by diving by 60\n",
    "200 / 60"
   ]
  },
  {
   "cell_type": "markdown",
   "id": "852e35bf",
   "metadata": {},
   "source": [
    "### **Objectives:**\n",
    "\n",
    "* list data science languages\n",
    "* list some relevant liabraries\n",
    "* list open source environments\n",
    "* learn about data science tools by using calculations\n",
    "* creating code and markdown cells in the notebook."
   ]
  },
  {
   "cell_type": "markdown",
   "id": "cd4ba052",
   "metadata": {},
   "source": [
    "## Author\n",
    "Moshe Mina"
   ]
  },
  {
   "cell_type": "code",
   "execution_count": null,
   "id": "e0537d76",
   "metadata": {},
   "outputs": [],
   "source": []
  }
 ],
 "metadata": {
  "kernelspec": {
   "display_name": "Python 3 (ipykernel)",
   "language": "python",
   "name": "python3"
  },
  "language_info": {
   "codemirror_mode": {
    "name": "ipython",
    "version": 3
   },
   "file_extension": ".py",
   "mimetype": "text/x-python",
   "name": "python",
   "nbconvert_exporter": "python",
   "pygments_lexer": "ipython3",
   "version": "3.11.5"
  }
 },
 "nbformat": 4,
 "nbformat_minor": 5
}
